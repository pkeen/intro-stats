{
 "cells": [
  {
   "cell_type": "markdown",
   "id": "26eb4f93",
   "metadata": {},
   "source": [
    "Scores on a test of dexterity are recorded by timing a subject who is inverting pegs by picking them up with one hand, manipulating them to turn them over, and then placing them back in a frame. A typical 4-year-old needs about 3.125 seconds to invert a peg, but a 9-year-old takes 1.375 seconds and a 12-year-old can do it in 1.125 seconds. Plot these three points. Now try the reciprocal re-expression (1>y) vs. age. Which version is straigh"
   ]
  }
 ],
 "metadata": {
  "language_info": {
   "name": "python"
  }
 },
 "nbformat": 4,
 "nbformat_minor": 5
}
