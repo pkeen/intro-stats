{
 "cells": [
  {
   "cell_type": "code",
   "execution_count": 10,
   "id": "aa654b3b",
   "metadata": {},
   "outputs": [
    {
     "data": {
      "text/html": [
       "<div>\n",
       "<style scoped>\n",
       "    .dataframe tbody tr th:only-of-type {\n",
       "        vertical-align: middle;\n",
       "    }\n",
       "\n",
       "    .dataframe tbody tr th {\n",
       "        vertical-align: top;\n",
       "    }\n",
       "\n",
       "    .dataframe thead th {\n",
       "        text-align: right;\n",
       "    }\n",
       "</style>\n",
       "<table border=\"1\" class=\"dataframe\">\n",
       "  <thead>\n",
       "    <tr style=\"text-align: right;\">\n",
       "      <th></th>\n",
       "      <th>Model.Year</th>\n",
       "      <th>Mfr</th>\n",
       "      <th>Division</th>\n",
       "      <th>Car.line</th>\n",
       "      <th>Class</th>\n",
       "      <th>CityMPG</th>\n",
       "      <th>HighwayMPG</th>\n",
       "      <th>CombinedMPG</th>\n",
       "      <th>Displacement</th>\n",
       "      <th>Cylinders</th>\n",
       "      <th>Transmission</th>\n",
       "      <th>Gears</th>\n",
       "      <th>CityCO2</th>\n",
       "      <th>HwyCO2</th>\n",
       "      <th>CombCO2</th>\n",
       "    </tr>\n",
       "  </thead>\n",
       "  <tbody>\n",
       "    <tr>\n",
       "      <th>0</th>\n",
       "      <td>2019</td>\n",
       "      <td>Honda</td>\n",
       "      <td>Acura</td>\n",
       "      <td>NSX</td>\n",
       "      <td>All Wheel Drive</td>\n",
       "      <td>21</td>\n",
       "      <td>22</td>\n",
       "      <td>21</td>\n",
       "      <td>3.5</td>\n",
       "      <td>6</td>\n",
       "      <td>Auto(AM-S9)</td>\n",
       "      <td>9</td>\n",
       "      <td>419</td>\n",
       "      <td>406</td>\n",
       "      <td>420</td>\n",
       "    </tr>\n",
       "    <tr>\n",
       "      <th>1</th>\n",
       "      <td>2019</td>\n",
       "      <td>FCA US LLC</td>\n",
       "      <td>ALFA ROMEO</td>\n",
       "      <td>4C</td>\n",
       "      <td>2-Wheel Drive, Rear</td>\n",
       "      <td>24</td>\n",
       "      <td>34</td>\n",
       "      <td>28</td>\n",
       "      <td>1.8</td>\n",
       "      <td>4</td>\n",
       "      <td>Auto(AM6)</td>\n",
       "      <td>6</td>\n",
       "      <td>365</td>\n",
       "      <td>259</td>\n",
       "      <td>317</td>\n",
       "    </tr>\n",
       "    <tr>\n",
       "      <th>2</th>\n",
       "      <td>2019</td>\n",
       "      <td>aston martin</td>\n",
       "      <td>Aston Martin Lagonda Ltd</td>\n",
       "      <td>Vantage V8</td>\n",
       "      <td>2-Wheel Drive, Rear</td>\n",
       "      <td>18</td>\n",
       "      <td>25</td>\n",
       "      <td>21</td>\n",
       "      <td>4.0</td>\n",
       "      <td>8</td>\n",
       "      <td>Auto(S8)</td>\n",
       "      <td>8</td>\n",
       "      <td>494</td>\n",
       "      <td>364</td>\n",
       "      <td>435</td>\n",
       "    </tr>\n",
       "    <tr>\n",
       "      <th>3</th>\n",
       "      <td>2019</td>\n",
       "      <td>Volkswagen Group of</td>\n",
       "      <td>Audi</td>\n",
       "      <td>TT Roadster quattro</td>\n",
       "      <td>All Wheel Drive</td>\n",
       "      <td>23</td>\n",
       "      <td>31</td>\n",
       "      <td>26</td>\n",
       "      <td>2.0</td>\n",
       "      <td>4</td>\n",
       "      <td>Auto(AM-S7)</td>\n",
       "      <td>7</td>\n",
       "      <td>384</td>\n",
       "      <td>285</td>\n",
       "      <td>340</td>\n",
       "    </tr>\n",
       "    <tr>\n",
       "      <th>4</th>\n",
       "      <td>2019</td>\n",
       "      <td>BMW</td>\n",
       "      <td>BMW</td>\n",
       "      <td>Z4 sDrive30i</td>\n",
       "      <td>2-Wheel Drive, Rear</td>\n",
       "      <td>25</td>\n",
       "      <td>32</td>\n",
       "      <td>28</td>\n",
       "      <td>2.0</td>\n",
       "      <td>4</td>\n",
       "      <td>Auto(S8)</td>\n",
       "      <td>8</td>\n",
       "      <td>355</td>\n",
       "      <td>278</td>\n",
       "      <td>321</td>\n",
       "    </tr>\n",
       "  </tbody>\n",
       "</table>\n",
       "</div>"
      ],
      "text/plain": [
       "   Model.Year                  Mfr                  Division  \\\n",
       "0        2019                Honda                     Acura   \n",
       "1        2019           FCA US LLC                ALFA ROMEO   \n",
       "2        2019         aston martin  Aston Martin Lagonda Ltd   \n",
       "3        2019  Volkswagen Group of                      Audi   \n",
       "4        2019                  BMW                       BMW   \n",
       "\n",
       "              Car.line                Class  CityMPG  HighwayMPG  CombinedMPG  \\\n",
       "0                  NSX      All Wheel Drive       21          22           21   \n",
       "1                   4C  2-Wheel Drive, Rear       24          34           28   \n",
       "2           Vantage V8  2-Wheel Drive, Rear       18          25           21   \n",
       "3  TT Roadster quattro      All Wheel Drive       23          31           26   \n",
       "4         Z4 sDrive30i  2-Wheel Drive, Rear       25          32           28   \n",
       "\n",
       "   Displacement  Cylinders Transmission  Gears  CityCO2  HwyCO2  CombCO2  \n",
       "0           3.5          6  Auto(AM-S9)      9      419     406      420  \n",
       "1           1.8          4    Auto(AM6)      6      365     259      317  \n",
       "2           4.0          8     Auto(S8)      8      494     364      435  \n",
       "3           2.0          4  Auto(AM-S7)      7      384     285      340  \n",
       "4           2.0          4     Auto(S8)      8      355     278      321  "
      ]
     },
     "execution_count": 10,
     "metadata": {},
     "output_type": "execute_result"
    }
   ],
   "source": [
    "import pandas as pd\n",
    "\n",
    "df = pd.read_csv(\"../../data/fuel_economy_2019.txt\", sep=\"\\t\")\n",
    "df.head()\n"
   ]
  },
  {
   "cell_type": "code",
   "execution_count": 11,
   "id": "31d4e33b-af2c-4576-af4e-41cddb305243",
   "metadata": {},
   "outputs": [
    {
     "data": {
      "text/html": [
       "<div>\n",
       "<style scoped>\n",
       "    .dataframe tbody tr th:only-of-type {\n",
       "        vertical-align: middle;\n",
       "    }\n",
       "\n",
       "    .dataframe tbody tr th {\n",
       "        vertical-align: top;\n",
       "    }\n",
       "\n",
       "    .dataframe thead th {\n",
       "        text-align: right;\n",
       "    }\n",
       "</style>\n",
       "<table border=\"1\" class=\"dataframe\">\n",
       "  <thead>\n",
       "    <tr style=\"text-align: right;\">\n",
       "      <th></th>\n",
       "      <th>make</th>\n",
       "      <th>model</th>\n",
       "      <th>Displacement</th>\n",
       "      <th>CombinedMPG</th>\n",
       "    </tr>\n",
       "  </thead>\n",
       "  <tbody>\n",
       "    <tr>\n",
       "      <th>354</th>\n",
       "      <td>Mercedes-Benz</td>\n",
       "      <td>C 300</td>\n",
       "      <td>2.0</td>\n",
       "      <td>27</td>\n",
       "    </tr>\n",
       "    <tr>\n",
       "      <th>457</th>\n",
       "      <td>Honda</td>\n",
       "      <td>INSIGHT TOURING</td>\n",
       "      <td>1.5</td>\n",
       "      <td>48</td>\n",
       "    </tr>\n",
       "    <tr>\n",
       "      <th>844</th>\n",
       "      <td>Ford Motor Company</td>\n",
       "      <td>F150 RAPTOR 4WD</td>\n",
       "      <td>3.5</td>\n",
       "      <td>16</td>\n",
       "    </tr>\n",
       "    <tr>\n",
       "      <th>824</th>\n",
       "      <td>General Motors</td>\n",
       "      <td>K10 SILVERADO 4WD</td>\n",
       "      <td>6.2</td>\n",
       "      <td>17</td>\n",
       "    </tr>\n",
       "    <tr>\n",
       "      <th>1049</th>\n",
       "      <td>Jaguar Land Rover L</td>\n",
       "      <td>Jaguar E-Pace P300</td>\n",
       "      <td>2.0</td>\n",
       "      <td>23</td>\n",
       "    </tr>\n",
       "  </tbody>\n",
       "</table>\n",
       "</div>"
      ],
      "text/plain": [
       "                     make               model  Displacement  CombinedMPG\n",
       "354         Mercedes-Benz               C 300           2.0           27\n",
       "457                 Honda     INSIGHT TOURING           1.5           48\n",
       "844    Ford Motor Company     F150 RAPTOR 4WD           3.5           16\n",
       "824        General Motors   K10 SILVERADO 4WD           6.2           17\n",
       "1049  Jaguar Land Rover L  Jaguar E-Pace P300           2.0           23"
      ]
     },
     "execution_count": 11,
     "metadata": {},
     "output_type": "execute_result"
    }
   ],
   "source": [
    "sample = df.sample(n=50)\n",
    "sample = sample[[ \"Mfr\", \"Car.line\", \"Displacement\", \"CombinedMPG\"]]\n",
    "sample.rename(columns={\"Mfr\": \"make\", \"Car.line\": \"model\"}, inplace=True)\n",
    "sample.head()\n"
   ]
  },
  {
   "cell_type": "code",
   "execution_count": 13,
   "id": "1a25838f-6fad-4f39-8532-ef1ce2a71e77",
   "metadata": {},
   "outputs": [
    {
     "data": {
      "image/png": "[encoded data removed]",
      "text/plain": [
       "<Figure size 640x480 with 1 Axes>"
      ]
     },
     "metadata": {},
     "output_type": "display_data"
    }
   ],
   "source": [
    "import matplotlib.pyplot as plt\n",
    "\n",
    "# create scatterplot\n",
    "plt.scatter(sample[\"Displacement\"], sample[\"CombinedMPG\"])\n",
    "plt.xlabel(\"Displacement\")\n",
    "plt.ylabel(\"Combined MPG\")\n",
    "plt.show()\n"
   ]
  },
  {
   "cell_type": "code",
   "execution_count": 19,
   "id": "8e801e25",
   "metadata": {},
   "outputs": [
    {
     "data": {
      "image/png": "[encoded data removed]",
      "text/plain": [
       "<Figure size 640x480 with 1 Axes>"
      ]
     },
     "metadata": {},
     "output_type": "display_data"
    }
   ],
   "source": [
    "# Re-express with reciprocal\n",
    "sample[\"reciprocal_comb_mpg\"] = -1/ sample['CombinedMPG']\n",
    "\n",
    "plt.scatter(sample[\"Displacement\"], sample[\"reciprocal_comb_mpg\"])\n",
    "plt.xlabel(\"Displacement\")\n",
    "plt.ylabel(\"Reciprocal of Combined MPG\")\n",
    "plt.show()"
   ]
  },
  {
   "cell_type": "code",
   "execution_count": 24,
   "id": "fd87d9e0",
   "metadata": {},
   "outputs": [
    {
     "name": "stdout",
     "output_type": "stream",
     "text": [
      "-0.8026210460052317\n"
     ]
    }
   ],
   "source": [
    "# Find correlation\n",
    "corr = sample[\"Displacement\"].corr(sample[\"reciprocal_comb_mpg\"])\n",
    "print(corr)"
   ]
  },
  {
   "cell_type": "markdown",
   "id": "5423ca5b",
   "metadata": {},
   "source": [
    "The correlation between displacement and reciprocal of combined MPG is -0.8026 in a non-linear fashion "
   ]
  },
  {
   "cell_type": "markdown",
   "id": "b805c0a2",
   "metadata": {},
   "source": [
    "It seems that smaller displacements provide exponentially better fuel efficiency"
   ]
  },
  {
   "cell_type": "markdown",
   "id": "59485611",
   "metadata": {},
   "source": []
  }
 ],
 "metadata": {
  "kernelspec": {
   "display_name": "Python 3 (ipykernel)",
   "language": "python",
   "name": "python3"
  },
  "language_info": {
   "codemirror_mode": {
    "name": "ipython",
    "version": 3
   },
   "file_extension": ".py",
   "mimetype": "text/x-python",
   "name": "python",
   "nbconvert_exporter": "python",
   "pygments_lexer": "ipython3",
   "version": "3.11.11"
  }
 },
 "nbformat": 4,
 "nbformat_minor": 5
}
