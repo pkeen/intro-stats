{
 "cells": [
  {
   "cell_type": "code",
   "execution_count": 25,
   "id": "5efd6cb6",
   "metadata": {},
   "outputs": [],
   "source": [
    "import pandas as pd\n",
    "\n",
    "nightmares = pd.read_csv(\"../../data/nightmares.txt\", sep=\"\\t\")\n",
    "\n"
   ]
  },
  {
   "cell_type": "code",
   "execution_count": 26,
   "id": "90c563c1",
   "metadata": {},
   "outputs": [
    {
     "name": "stdout",
     "output_type": "stream",
     "text": [
      "Dream  N   n\n",
      "Side        \n",
      "L      9  13\n",
      "R      6  35\n"
     ]
    }
   ],
   "source": [
    "nightmares_crosstab = pd.crosstab(nightmares[\"Side\"], nightmares[\"Dream\"])\n",
    "print(nightmares_crosstab)\n"
   ]
  },
  {
   "cell_type": "code",
   "execution_count": 27,
   "id": "802e7ebb",
   "metadata": {},
   "outputs": [
    {
     "name": "stdout",
     "output_type": "stream",
     "text": [
      "  Side      Dream\n",
      "0    L  Nightmare\n",
      "1    L  Nightmare\n",
      "2    L  Nightmare\n",
      "3    L  Nightmare\n",
      "4    L  Nightmare\n",
      "Side           L   R  All\n",
      "Dream                    \n",
      "Nightmare      9   6   15\n",
      "No Nightmare  13  35   48\n",
      "All           22  41   63\n"
     ]
    }
   ],
   "source": [
    "nightmares['Dream'] = nightmares['Dream'].map({'N': 'Nightmare', 'n': 'No Nightmare'})\n",
    "print(nightmares.head())\n",
    "table = pd.crosstab(nightmares['Dream'], nightmares['Side'], margins=True)\n",
    "print(table)\n"
   ]
  }
 ],
 "metadata": {
  "kernelspec": {
   "display_name": "stats-env",
   "language": "python",
   "name": "python3"
  },
  "language_info": {
   "codemirror_mode": {
    "name": "ipython",
    "version": 3
   },
   "file_extension": ".py",
   "mimetype": "text/x-python",
   "name": "python",
   "nbconvert_exporter": "python",
   "pygments_lexer": "ipython3",
   "version": "3.11.11"
  }
 },
 "nbformat": 4,
 "nbformat_minor": 5
}
