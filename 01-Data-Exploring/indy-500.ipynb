{
 "cells": [
  {
   "cell_type": "code",
   "execution_count": 3,
   "metadata": {},
   "outputs": [],
   "source": [
    "import pandas as pd\n",
    "\n",
    "df = pd.read_csv(\"indy_500_2020.txt\", sep=\"\\t\")"
   ]
  },
  {
   "cell_type": "code",
   "execution_count": 4,
   "metadata": {},
   "outputs": [
    {
     "data": {
      "text/html": [
       "<div>\n",
       "<style scoped>\n",
       "    .dataframe tbody tr th:only-of-type {\n",
       "        vertical-align: middle;\n",
       "    }\n",
       "\n",
       "    .dataframe tbody tr th {\n",
       "        vertical-align: top;\n",
       "    }\n",
       "\n",
       "    .dataframe thead th {\n",
       "        text-align: right;\n",
       "    }\n",
       "</style>\n",
       "<table border=\"1\" class=\"dataframe\">\n",
       "  <thead>\n",
       "    <tr style=\"text-align: right;\">\n",
       "      <th></th>\n",
       "      <th>Year</th>\n",
       "      <th>Winner</th>\n",
       "      <th>Chassis</th>\n",
       "      <th>Engine</th>\n",
       "      <th>Speed computed</th>\n",
       "      <th>Time_hrs</th>\n",
       "      <th>Distance</th>\n",
       "    </tr>\n",
       "  </thead>\n",
       "  <tbody>\n",
       "    <tr>\n",
       "      <th>0</th>\n",
       "      <td>1911</td>\n",
       "      <td>Ray Harroun</td>\n",
       "      <td>Marmon</td>\n",
       "      <td>Marmon</td>\n",
       "      <td>74.602122</td>\n",
       "      <td>6.702222</td>\n",
       "      <td>500.0</td>\n",
       "    </tr>\n",
       "    <tr>\n",
       "      <th>1</th>\n",
       "      <td>1912</td>\n",
       "      <td>Joe Dawson</td>\n",
       "      <td>National</td>\n",
       "      <td>National</td>\n",
       "      <td>78.719496</td>\n",
       "      <td>6.351667</td>\n",
       "      <td>500.0</td>\n",
       "    </tr>\n",
       "    <tr>\n",
       "      <th>2</th>\n",
       "      <td>1913</td>\n",
       "      <td>Jules Goux</td>\n",
       "      <td>Peugeot</td>\n",
       "      <td>Peugeot</td>\n",
       "      <td>75.933347</td>\n",
       "      <td>6.584722</td>\n",
       "      <td>500.0</td>\n",
       "    </tr>\n",
       "    <tr>\n",
       "      <th>3</th>\n",
       "      <td>1914</td>\n",
       "      <td>Rene Thomas</td>\n",
       "      <td>Delage</td>\n",
       "      <td>Delage</td>\n",
       "      <td>82.474227</td>\n",
       "      <td>6.062500</td>\n",
       "      <td>500.0</td>\n",
       "    </tr>\n",
       "    <tr>\n",
       "      <th>4</th>\n",
       "      <td>1915</td>\n",
       "      <td>Ralph DePalma</td>\n",
       "      <td>Mercedes</td>\n",
       "      <td>Mercedes</td>\n",
       "      <td>89.840488</td>\n",
       "      <td>5.565419</td>\n",
       "      <td>500.0</td>\n",
       "    </tr>\n",
       "  </tbody>\n",
       "</table>\n",
       "</div>"
      ],
      "text/plain": [
       "   Year         Winner   Chassis    Engine  Speed computed  Time_hrs  Distance\n",
       "0  1911    Ray Harroun    Marmon    Marmon       74.602122  6.702222     500.0\n",
       "1  1912     Joe Dawson  National  National       78.719496  6.351667     500.0\n",
       "2  1913     Jules Goux   Peugeot   Peugeot       75.933347  6.584722     500.0\n",
       "3  1914    Rene Thomas    Delage    Delage       82.474227  6.062500     500.0\n",
       "4  1915  Ralph DePalma  Mercedes  Mercedes       89.840488  5.565419     500.0"
      ]
     },
     "execution_count": 4,
     "metadata": {},
     "output_type": "execute_result"
    }
   ],
   "source": [
    "df.head()"
   ]
  },
  {
   "cell_type": "code",
   "execution_count": 6,
   "metadata": {},
   "outputs": [
    {
     "data": {
      "text/plain": [
       "7    88.617566\n",
       "Name: Speed computed, dtype: float64"
      ]
     },
     "execution_count": 6,
     "metadata": {},
     "output_type": "execute_result"
    }
   ],
   "source": [
    "df[df[\"Year\"] == 1920][\"Speed computed\"]"
   ]
  },
  {
   "cell_type": "code",
   "execution_count": null,
   "metadata": {},
   "outputs": [
    {
     "data": {
      "text/html": [
       "<div>\n",
       "<style scoped>\n",
       "    .dataframe tbody tr th:only-of-type {\n",
       "        vertical-align: middle;\n",
       "    }\n",
       "\n",
       "    .dataframe tbody tr th {\n",
       "        vertical-align: top;\n",
       "    }\n",
       "\n",
       "    .dataframe thead th {\n",
       "        text-align: right;\n",
       "    }\n",
       "</style>\n",
       "<table border=\"1\" class=\"dataframe\">\n",
       "  <thead>\n",
       "    <tr style=\"text-align: right;\">\n",
       "      <th></th>\n",
       "      <th>Year</th>\n",
       "      <th>Winner</th>\n",
       "      <th>Chassis</th>\n",
       "      <th>Engine</th>\n",
       "      <th>Speed computed</th>\n",
       "      <th>Time_hrs</th>\n",
       "      <th>Distance</th>\n",
       "    </tr>\n",
       "  </thead>\n",
       "  <tbody>\n",
       "    <tr>\n",
       "      <th>36</th>\n",
       "      <td>1953</td>\n",
       "      <td>Bill Vukovich</td>\n",
       "      <td>KK500A</td>\n",
       "      <td>Offy</td>\n",
       "      <td>128.73980</td>\n",
       "      <td>3.883803</td>\n",
       "      <td>500.0</td>\n",
       "    </tr>\n",
       "    <tr>\n",
       "      <th>37</th>\n",
       "      <td>1954</td>\n",
       "      <td>Bill Vukovich</td>\n",
       "      <td>KK500A</td>\n",
       "      <td>Offy</td>\n",
       "      <td>130.83991</td>\n",
       "      <td>3.821464</td>\n",
       "      <td>500.0</td>\n",
       "    </tr>\n",
       "  </tbody>\n",
       "</table>\n",
       "</div>"
      ],
      "text/plain": [
       "    Year         Winner Chassis Engine  Speed computed  Time_hrs  Distance\n",
       "36  1953  Bill Vukovich  KK500A   Offy       128.73980  3.883803     500.0\n",
       "37  1954  Bill Vukovich  KK500A   Offy       130.83991  3.821464     500.0"
      ]
     },
     "execution_count": 11,
     "metadata": {},
     "output_type": "execute_result"
    }
   ],
   "source": [
    "df[(df[\"Winner\"] == \"Bill Vukovich\") & (df[\"Year\"] > 1949) & (df[\"Year\"] < 1960)]\n",
    "# or\n",
    "df[(df[\"Winner\"] == \"Bill Vukovich\") & (df[\"Year\"].between(1950, 1959))]"
   ]
  },
  {
   "cell_type": "code",
   "execution_count": 13,
   "metadata": {},
   "outputs": [
    {
     "data": {
      "text/plain": [
       "6"
      ]
     },
     "execution_count": 13,
     "metadata": {},
     "output_type": "execute_result"
    }
   ],
   "source": [
    "# How many races took place in the 1940s\n",
    "df[df[\"Year\"].between(1940, 1949)].shape[0]"
   ]
  },
  {
   "cell_type": "code",
   "execution_count": 17,
   "metadata": {},
   "outputs": [
    {
     "name": "stdout",
     "output_type": "stream",
     "text": [
      "    Decade  Speed computed\n",
      "0     1910       81.945839\n",
      "1     1920       95.355405\n",
      "2     1930      107.156417\n",
      "3     1940      116.948803\n",
      "4     1950      130.069859\n",
      "5     1960      146.463621\n",
      "6     1970      157.360164\n",
      "7     1980      156.797313\n",
      "8     1990      156.072496\n",
      "9     2000      153.082678\n",
      "10    2010      169.974889\n",
      "11    2020      157.824000\n"
     ]
    }
   ],
   "source": [
    "# Plot average Speed by decade (e.g., 1870s, 1880s, ..., 2000s)\n",
    "df[\"Decade\"] = (df[\"Year\"] // 10) * 10\n",
    "avg_speed_by_decade = df.groupby(\"Decade\")[\"Speed computed\"].mean().reset_index()\n",
    "print(avg_speed_by_decade)\n",
    "\n"
   ]
  },
  {
   "cell_type": "code",
   "execution_count": 19,
   "metadata": {},
   "outputs": [
    {
     "data": {
      "image/png": "[encoded data removed]",
      "text/plain": [
       "<Figure size 1000x500 with 1 Axes>"
      ]
     },
     "metadata": {},
     "output_type": "display_data"
    }
   ],
   "source": [
    "import matplotlib.pyplot as plt\n",
    "\n",
    "plt.figure(figsize=(10, 5))\n",
    "plt.plot(avg_speed_by_decade[\"Decade\"], avg_speed_by_decade[\"Speed computed\"], marker='o')\n",
    "plt.title(\"Average Indy 500 Speed by Decade\")\n",
    "plt.xlabel(\"Decade\")\n",
    "plt.ylabel(\"Average Speed (mph)\")\n",
    "plt.grid(True)\n",
    "plt.tight_layout()\n",
    "plt.show()"
   ]
  }
 ],
 "metadata": {
  "kernelspec": {
   "display_name": "stats-env",
   "language": "python",
   "name": "python3"
  },
  "language_info": {
   "codemirror_mode": {
    "name": "ipython",
    "version": 3
   },
   "file_extension": ".py",
   "mimetype": "text/x-python",
   "name": "python",
   "nbconvert_exporter": "python",
   "pygments_lexer": "ipython3",
   "version": "3.11.11"
  }
 },
 "nbformat": 4,
 "nbformat_minor": 2
}
