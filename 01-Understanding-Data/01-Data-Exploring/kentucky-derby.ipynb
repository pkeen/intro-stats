{
 "cells": [
  {
   "cell_type": "markdown",
   "metadata": {},
   "source": [
    "Basic Data Frame Operations"
   ]
  },
  {
   "cell_type": "code",
   "execution_count": 5,
   "metadata": {},
   "outputs": [],
   "source": [
    "import pandas as pd\n",
    "\n",
    "df = pd.read_csv(\"kentucky_derby_2024.txt\", sep=\"\\t\")\n"
   ]
  },
  {
   "cell_type": "code",
   "execution_count": 3,
   "metadata": {},
   "outputs": [
    {
     "name": "stdout",
     "output_type": "stream",
     "text": [
      "(150, 11)\n"
     ]
    }
   ],
   "source": [
    "# df.tail()   \n",
    "print(df.shape)"
   ]
  },
  {
   "cell_type": "code",
   "execution_count": 4,
   "metadata": {},
   "outputs": [
    {
     "name": "stdout",
     "output_type": "stream",
     "text": [
      "0        Aristides\n",
      "1          Vagrant\n",
      "2      Baden-Baden\n",
      "3         Day Star\n",
      "4      Lord Murphy\n",
      "          ...     \n",
      "145      Authentic\n",
      "146      Mandaloun\n",
      "147    Rich Strike\n",
      "148           Mage\n",
      "149     Mystik Dan\n",
      "Name: Winner, Length: 150, dtype: object\n"
     ]
    }
   ],
   "source": [
    "print(df[\"Winner\"])"
   ]
  },
  {
   "cell_type": "code",
   "execution_count": 19,
   "metadata": {},
   "outputs": [
    {
     "name": "stdout",
     "output_type": "stream",
     "text": [
      "35.94966466666667\n"
     ]
    }
   ],
   "source": [
    "df.describe()\n",
    "print(df[\"Speed\"].mean())     # Summary statistics for numerical columns\n"
   ]
  },
  {
   "cell_type": "code",
   "execution_count": 21,
   "metadata": {},
   "outputs": [
    {
     "name": "stdout",
     "output_type": "stream",
     "text": [
      "     Year  Year_no       Winner  Mins   Secs  Time.in.Sec  Distance..mi.  \\\n",
      "0    1875        1    Aristides     2  37.75       157.75           1.50   \n",
      "3    1878        4     Day Star     2  37.25       157.25           1.50   \n",
      "4    1879        5  Lord Murphy     2  37.00       157.00           1.50   \n",
      "5    1880        6        Fonso     2  37.50       157.50           1.50   \n",
      "10   1885       11   Joe Cotton     2  37.25       157.25           1.50   \n",
      "..    ...      ...          ...   ...    ...          ...            ...   \n",
      "145  2020      146    Authentic     2   0.61       120.61           1.25   \n",
      "146  2021      147    Mandaloun     2   1.02       121.02           1.25   \n",
      "147  2022      148  Rich Strike     2   2.61       122.61           1.25   \n",
      "148  2023      149         Mage     2   1.57       121.57           1.25   \n",
      "149  2024      150   Mystik Dan     2   3.34       123.34           1.25   \n",
      "\n",
      "         Speed               Jockey            Speed.1  \\\n",
      "0    34.231379         Oliver Lewis   Ansel Williamson   \n",
      "3    34.340223         Jimmy Carter           Lee Paul   \n",
      "4    34.394904       Charlie Shauer        George Rice   \n",
      "5    34.285714         George Lewis       Tice Hutsell   \n",
      "10   34.340223    Erskine Henderson      Abraham Perry   \n",
      "..         ...                  ...                ...   \n",
      "145  37.310339       John Velazquez        Bob Baffert   \n",
      "146  37.183937       Florent Geroux           Brad Cox   \n",
      "147  36.701737           Sonny Leon          Eric Reed   \n",
      "148  37.015711    Javier Castellano    Gustavo Delgado   \n",
      "149  36.484514  Brian Hernandez Jr.  Kenneth G. McPeek   \n",
      "\n",
      "                                                 Owner  \n",
      "0                                    Hal Price McGrath  \n",
      "3                                    Thomas J. Nichols  \n",
      "4                           George W. Darden &amp; Co.  \n",
      "5                                         J.S. Shawhan  \n",
      "10                                   James T. Williams  \n",
      "..                                                 ...  \n",
      "145  Spendthrift Farm, MyRaceHorse Stable, Madaket ...  \n",
      "146                                          Juddmonte  \n",
      "147                                      RED TR-Racing  \n",
      "148  OGMA Investments, Ramiro Restrepo, Sterling Ra...  \n",
      "149  Lance Gasaway, 4 G Racing (Brent Gasaway), Dan...  \n",
      "\n",
      "[133 rows x 11 columns]\n"
     ]
    }
   ],
   "source": [
    "fast_horses = df[df[\"Speed\"] > 34.2]\n",
    "print(fast_horses)"
   ]
  },
  {
   "cell_type": "code",
   "execution_count": 24,
   "metadata": {},
   "outputs": [
    {
     "data": {
      "text/html": [
       "<div>\n",
       "<style scoped>\n",
       "    .dataframe tbody tr th:only-of-type {\n",
       "        vertical-align: middle;\n",
       "    }\n",
       "\n",
       "    .dataframe tbody tr th {\n",
       "        vertical-align: top;\n",
       "    }\n",
       "\n",
       "    .dataframe thead th {\n",
       "        text-align: right;\n",
       "    }\n",
       "</style>\n",
       "<table border=\"1\" class=\"dataframe\">\n",
       "  <thead>\n",
       "    <tr style=\"text-align: right;\">\n",
       "      <th></th>\n",
       "      <th>Year</th>\n",
       "      <th>Year_no</th>\n",
       "      <th>Winner</th>\n",
       "      <th>Mins</th>\n",
       "      <th>Secs</th>\n",
       "      <th>Time.in.Sec</th>\n",
       "      <th>Distance..mi.</th>\n",
       "      <th>Speed</th>\n",
       "      <th>Jockey</th>\n",
       "      <th>Speed.1</th>\n",
       "      <th>Owner</th>\n",
       "    </tr>\n",
       "  </thead>\n",
       "  <tbody>\n",
       "    <tr>\n",
       "      <th>16</th>\n",
       "      <td>1891</td>\n",
       "      <td>17</td>\n",
       "      <td>Kingman</td>\n",
       "      <td>2</td>\n",
       "      <td>52.25</td>\n",
       "      <td>172.250</td>\n",
       "      <td>1.50</td>\n",
       "      <td>31.349782</td>\n",
       "      <td>Isaac Murphy</td>\n",
       "      <td>Dudley Allen</td>\n",
       "      <td>Jacobin Stable</td>\n",
       "    </tr>\n",
       "    <tr>\n",
       "      <th>15</th>\n",
       "      <td>1890</td>\n",
       "      <td>16</td>\n",
       "      <td>Riley</td>\n",
       "      <td>2</td>\n",
       "      <td>45.00</td>\n",
       "      <td>165.000</td>\n",
       "      <td>1.50</td>\n",
       "      <td>32.727273</td>\n",
       "      <td>Isaac Murphy</td>\n",
       "      <td>Edward Corrigan</td>\n",
       "      <td>Edward Corrigan</td>\n",
       "    </tr>\n",
       "    <tr>\n",
       "      <th>8</th>\n",
       "      <td>1883</td>\n",
       "      <td>9</td>\n",
       "      <td>Leonatus</td>\n",
       "      <td>2</td>\n",
       "      <td>43.00</td>\n",
       "      <td>163.000</td>\n",
       "      <td>1.50</td>\n",
       "      <td>33.128834</td>\n",
       "      <td>William Donohue</td>\n",
       "      <td>Raleigh Colston Sr.</td>\n",
       "      <td>Jack P. Chinn, George Morgan</td>\n",
       "    </tr>\n",
       "    <tr>\n",
       "      <th>33</th>\n",
       "      <td>1908</td>\n",
       "      <td>34</td>\n",
       "      <td>Stone Street</td>\n",
       "      <td>2</td>\n",
       "      <td>15.20</td>\n",
       "      <td>135.200</td>\n",
       "      <td>1.25</td>\n",
       "      <td>33.284024</td>\n",
       "      <td>Arthur Pickens</td>\n",
       "      <td>John Hall</td>\n",
       "      <td>C. E. &amp;amp; J. W. Hamilton</td>\n",
       "    </tr>\n",
       "    <tr>\n",
       "      <th>17</th>\n",
       "      <td>1892</td>\n",
       "      <td>18</td>\n",
       "      <td>Azra</td>\n",
       "      <td>2</td>\n",
       "      <td>41.50</td>\n",
       "      <td>161.500</td>\n",
       "      <td>1.50</td>\n",
       "      <td>33.436533</td>\n",
       "      <td>Alonzo Clayton</td>\n",
       "      <td>John Morris</td>\n",
       "      <td>Bashford Manor Stable</td>\n",
       "    </tr>\n",
       "    <tr>\n",
       "      <th>...</th>\n",
       "      <td>...</td>\n",
       "      <td>...</td>\n",
       "      <td>...</td>\n",
       "      <td>...</td>\n",
       "      <td>...</td>\n",
       "      <td>...</td>\n",
       "      <td>...</td>\n",
       "      <td>...</td>\n",
       "      <td>...</td>\n",
       "      <td>...</td>\n",
       "      <td>...</td>\n",
       "    </tr>\n",
       "    <tr>\n",
       "      <th>143</th>\n",
       "      <td>2018</td>\n",
       "      <td>144</td>\n",
       "      <td>Justify</td>\n",
       "      <td>2</td>\n",
       "      <td>4.20</td>\n",
       "      <td>120.070</td>\n",
       "      <td>1.25</td>\n",
       "      <td>37.478138</td>\n",
       "      <td>Mike Smith</td>\n",
       "      <td>Bob Baffert</td>\n",
       "      <td>China Horse Club, Head of Plains Partners, Sta...</td>\n",
       "    </tr>\n",
       "    <tr>\n",
       "      <th>144</th>\n",
       "      <td>2019</td>\n",
       "      <td>145</td>\n",
       "      <td>Country House</td>\n",
       "      <td>2</td>\n",
       "      <td>3.93</td>\n",
       "      <td>120.065</td>\n",
       "      <td>1.25</td>\n",
       "      <td>37.479698</td>\n",
       "      <td>Flavien Prat</td>\n",
       "      <td>Bill Mott</td>\n",
       "      <td>Mrs. J.V. Shields Jr., E. J. M. McFadden Jr., ...</td>\n",
       "    </tr>\n",
       "    <tr>\n",
       "      <th>89</th>\n",
       "      <td>1964</td>\n",
       "      <td>90</td>\n",
       "      <td>Northern Dancer</td>\n",
       "      <td>2</td>\n",
       "      <td>0.00</td>\n",
       "      <td>120.000</td>\n",
       "      <td>1.25</td>\n",
       "      <td>37.500000</td>\n",
       "      <td>Bill Hartack</td>\n",
       "      <td>Horatio Luro</td>\n",
       "      <td>Windfields Farm</td>\n",
       "    </tr>\n",
       "    <tr>\n",
       "      <th>126</th>\n",
       "      <td>2001</td>\n",
       "      <td>127</td>\n",
       "      <td>Monarchos</td>\n",
       "      <td>1</td>\n",
       "      <td>59.97</td>\n",
       "      <td>119.970</td>\n",
       "      <td>1.25</td>\n",
       "      <td>37.509377</td>\n",
       "      <td>Jorge Chavez</td>\n",
       "      <td>John Ward Jr.</td>\n",
       "      <td>John Oxley</td>\n",
       "    </tr>\n",
       "    <tr>\n",
       "      <th>98</th>\n",
       "      <td>1973</td>\n",
       "      <td>99</td>\n",
       "      <td>Secretariat</td>\n",
       "      <td>1</td>\n",
       "      <td>59.40</td>\n",
       "      <td>119.400</td>\n",
       "      <td>1.25</td>\n",
       "      <td>37.688442</td>\n",
       "      <td>Ron Turcotte</td>\n",
       "      <td>Lucien Laurin</td>\n",
       "      <td>Meadow Stable</td>\n",
       "    </tr>\n",
       "  </tbody>\n",
       "</table>\n",
       "<p>150 rows × 11 columns</p>\n",
       "</div>"
      ],
      "text/plain": [
       "     Year  Year_no           Winner  Mins   Secs  Time.in.Sec  Distance..mi.  \\\n",
       "16   1891       17          Kingman     2  52.25      172.250           1.50   \n",
       "15   1890       16            Riley     2  45.00      165.000           1.50   \n",
       "8    1883        9         Leonatus     2  43.00      163.000           1.50   \n",
       "33   1908       34     Stone Street     2  15.20      135.200           1.25   \n",
       "17   1892       18             Azra     2  41.50      161.500           1.50   \n",
       "..    ...      ...              ...   ...    ...          ...            ...   \n",
       "143  2018      144          Justify     2   4.20      120.070           1.25   \n",
       "144  2019      145    Country House     2   3.93      120.065           1.25   \n",
       "89   1964       90  Northern Dancer     2   0.00      120.000           1.25   \n",
       "126  2001      127        Monarchos     1  59.97      119.970           1.25   \n",
       "98   1973       99      Secretariat     1  59.40      119.400           1.25   \n",
       "\n",
       "         Speed           Jockey              Speed.1  \\\n",
       "16   31.349782     Isaac Murphy         Dudley Allen   \n",
       "15   32.727273     Isaac Murphy      Edward Corrigan   \n",
       "8    33.128834  William Donohue  Raleigh Colston Sr.   \n",
       "33   33.284024   Arthur Pickens            John Hall   \n",
       "17   33.436533   Alonzo Clayton          John Morris   \n",
       "..         ...              ...                  ...   \n",
       "143  37.478138       Mike Smith          Bob Baffert   \n",
       "144  37.479698     Flavien Prat            Bill Mott   \n",
       "89   37.500000     Bill Hartack         Horatio Luro   \n",
       "126  37.509377     Jorge Chavez        John Ward Jr.   \n",
       "98   37.688442     Ron Turcotte        Lucien Laurin   \n",
       "\n",
       "                                                 Owner  \n",
       "16                                      Jacobin Stable  \n",
       "15                                     Edward Corrigan  \n",
       "8                         Jack P. Chinn, George Morgan  \n",
       "33                          C. E. &amp; J. W. Hamilton  \n",
       "17                               Bashford Manor Stable  \n",
       "..                                                 ...  \n",
       "143  China Horse Club, Head of Plains Partners, Sta...  \n",
       "144  Mrs. J.V. Shields Jr., E. J. M. McFadden Jr., ...  \n",
       "89                                     Windfields Farm  \n",
       "126                                         John Oxley  \n",
       "98                                       Meadow Stable  \n",
       "\n",
       "[150 rows x 11 columns]"
      ]
     },
     "execution_count": 24,
     "metadata": {},
     "output_type": "execute_result"
    }
   ],
   "source": [
    "df.sort_values(by=\"Speed\", ascending=True)"
   ]
  },
  {
   "cell_type": "code",
   "execution_count": 26,
   "metadata": {},
   "outputs": [
    {
     "name": "stdout",
     "output_type": "stream",
     "text": [
      "   Year  Year_no Winner  Mins  Secs  Time.in.Sec  Distance..mi.      Speed  \\\n",
      "5  1880        6  Fonso     2  37.5        157.5            1.5  34.285714   \n",
      "\n",
      "         Jockey       Speed.1         Owner  \n",
      "5  George Lewis  Tice Hutsell  J.S. Shawhan  \n"
     ]
    }
   ],
   "source": [
    "print(df[df[\"Year\"] == 1880])"
   ]
  },
  {
   "cell_type": "code",
   "execution_count": 28,
   "metadata": {},
   "outputs": [
    {
     "name": "stdout",
     "output_type": "stream",
     "text": [
      "     Year  Year_no         Winner  Mins   Secs  Time.in.Sec  Distance..mi.  \\\n",
      "21   1896       22      Ben Brush     2   7.75       127.75           1.25   \n",
      "22   1897       23     Typhoon II     2  12.50       132.50           1.25   \n",
      "23   1898       24        Plaudit     2   9.00       129.00           1.25   \n",
      "24   1899       25         Manuel     2  12.00       132.00           1.25   \n",
      "25   1900       26  Lieut. Gibson     2   6.25       126.25           1.25   \n",
      "..    ...      ...            ...   ...    ...          ...            ...   \n",
      "145  2020      146      Authentic     2   0.61       120.61           1.25   \n",
      "146  2021      147      Mandaloun     2   1.02       121.02           1.25   \n",
      "147  2022      148    Rich Strike     2   2.61       122.61           1.25   \n",
      "148  2023      149           Mage     2   1.57       121.57           1.25   \n",
      "149  2024      150     Mystik Dan     2   3.34       123.34           1.25   \n",
      "\n",
      "         Speed               Jockey            Speed.1  \\\n",
      "21   35.225049         Willie Simms     Hardy Campbell   \n",
      "22   33.962264       Buttons Garner     Julius C. Cahn   \n",
      "23   34.883721         Willie Simms     John E. Madden   \n",
      "24   34.090909           Fred Taral      Robert Walden   \n",
      "25   35.643564         Jimmy Boland     Charles Hughes   \n",
      "..         ...                  ...                ...   \n",
      "145  37.310339       John Velazquez        Bob Baffert   \n",
      "146  37.183937       Florent Geroux           Brad Cox   \n",
      "147  36.701737           Sonny Leon          Eric Reed   \n",
      "148  37.015711    Javier Castellano    Gustavo Delgado   \n",
      "149  36.484514  Brian Hernandez Jr.  Kenneth G. McPeek   \n",
      "\n",
      "                                                 Owner  \n",
      "21                                       Mike F. Dwyer  \n",
      "22                                      Julius C. Cahn  \n",
      "23                                      John E. Madden  \n",
      "24                            A. H. &amp; D. H. Morris  \n",
      "25                                    Charles H. Smith  \n",
      "..                                                 ...  \n",
      "145  Spendthrift Farm, MyRaceHorse Stable, Madaket ...  \n",
      "146                                          Juddmonte  \n",
      "147                                      RED TR-Racing  \n",
      "148  OGMA Investments, Ramiro Restrepo, Sterling Ra...  \n",
      "149  Lance Gasaway, 4 G Racing (Brent Gasaway), Dan...  \n",
      "\n",
      "[129 rows x 11 columns]\n"
     ]
    }
   ],
   "source": [
    "print(df[df[\"Distance..mi.\"]!= 1.50])"
   ]
  },
  {
   "cell_type": "code",
   "execution_count": 30,
   "metadata": {},
   "outputs": [
    {
     "name": "stdout",
     "output_type": "stream",
     "text": [
      "[1.5  1.25]\n"
     ]
    }
   ],
   "source": [
    "print(df[\"Distance..mi.\"].unique())"
   ]
  },
  {
   "cell_type": "code",
   "execution_count": 38,
   "metadata": {},
   "outputs": [
    {
     "name": "stdout",
     "output_type": "stream",
     "text": [
      "99    36.290323\n",
      "Name: Speed, dtype: float64\n"
     ]
    }
   ],
   "source": [
    "print(df[df[\"Year\"]== 1974][\"Speed\"])"
   ]
  },
  {
   "cell_type": "code",
   "execution_count": 44,
   "metadata": {},
   "outputs": [
    {
     "name": "stdout",
     "output_type": "stream",
     "text": [
      "     Year  Year_no       Winner  Mins   Secs  Time.in.Sec  Distance..mi.  \\\n",
      "98   1973       99  Secretariat     1  59.40       119.40           1.25   \n",
      "126  2001      127    Monarchos     1  59.97       119.97           1.25   \n",
      "\n",
      "         Speed        Jockey        Speed.1          Owner  \n",
      "98   37.688442  Ron Turcotte  Lucien Laurin  Meadow Stable  \n",
      "126  37.509377  Jorge Chavez  John Ward Jr.     John Oxley  \n"
     ]
    }
   ],
   "source": [
    "print(df[df[\"Time.in.Sec\"]< 120])"
   ]
  },
  {
   "cell_type": "code",
   "execution_count": 45,
   "metadata": {},
   "outputs": [
    {
     "name": "stdout",
     "output_type": "stream",
     "text": [
      "     Year  Year_no       Winner  Mins   Secs  Time.in.Sec  Distance..mi.  \\\n",
      "98   1973       99  Secretariat     1  59.40       119.40           1.25   \n",
      "126  2001      127    Monarchos     1  59.97       119.97           1.25   \n",
      "\n",
      "         Speed        Jockey        Speed.1          Owner  \n",
      "98   37.688442  Ron Turcotte  Lucien Laurin  Meadow Stable  \n",
      "126  37.509377  Jorge Chavez  John Ward Jr.     John Oxley  \n"
     ]
    }
   ],
   "source": [
    "print(df[df['Mins']< 2.0])"
   ]
  }
 ],
 "metadata": {
  "kernelspec": {
   "display_name": "stats-env",
   "language": "python",
   "name": "python3"
  },
  "language_info": {
   "codemirror_mode": {
    "name": "ipython",
    "version": 3
   },
   "file_extension": ".py",
   "mimetype": "text/x-python",
   "name": "python",
   "nbconvert_exporter": "python",
   "pygments_lexer": "ipython3",
   "version": "3.11.11"
  }
 },
 "nbformat": 4,
 "nbformat_minor": 2
}
