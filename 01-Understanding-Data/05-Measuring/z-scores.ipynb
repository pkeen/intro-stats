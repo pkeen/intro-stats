{
 "cells": [
  {
   "cell_type": "code",
   "execution_count": null,
   "id": "7a5dbc2b",
   "metadata": {},
   "outputs": [
    {
     "name": "stdout",
     "output_type": "stream",
     "text": [
      "Percentage of people with IQ > 120: 0.98%\n"
     ]
    }
   ],
   "source": [
    "from scipy.stats import norm\n",
    "\n",
    "mean_iq = 100\n",
    "std_dev = 15\n",
    "x = 135\n",
    "\n",
    "# Calculate z-score\n",
    "z = (x - mean_iq) / std_dev\n",
    "\n",
    "# Option 1: Use survival function (1 - CDF)\n",
    "percentage_above_135 = norm.sf(z) * 100\n",
    "\n",
    "print(f\"Percentage of people with IQ > 135: {percentage_above_135:.2f}%\")\n"
   ]
  },
  {
   "cell_type": "markdown",
   "id": "23261f65",
   "metadata": {},
   "source": [
    "Useful methods:\n",
    "\n",
    "norm.cdf(z) – cumulative probability up to a value\n",
    "\n",
    "norm.sf(z) – survival function = 1 - cdf (i.e., P(X > x))"
   ]
  },
  {
   "cell_type": "code",
   "execution_count": 4,
   "id": "53d7f98e",
   "metadata": {},
   "outputs": [
    {
     "name": "stdout",
     "output_type": "stream",
     "text": [
      "Percentage below 80: 9.121121972586788\n"
     ]
    }
   ],
   "source": [
    "# under 80?\n",
    "\n",
    "z = (80 - 100) / 15\n",
    "print(\"Percentage below 80:\", norm.cdf(z) * 100)\n"
   ]
  },
  {
   "cell_type": "markdown",
   "id": "82f409e7",
   "metadata": {},
   "source": [
    "🧠 Bonus: Going the other way — What IQ corresponds to the top 5%?"
   ]
  },
  {
   "cell_type": "code",
   "execution_count": 5,
   "id": "a64eb667",
   "metadata": {},
   "outputs": [
    {
     "name": "stdout",
     "output_type": "stream",
     "text": [
      "IQ at the 95th percentile: 124.67\n"
     ]
    }
   ],
   "source": [
    "# IQ score where the top 5% starts\n",
    "iq_top_5_percent = norm.ppf(0.95, loc=mean_iq, scale=std_dev)\n",
    "print(f\"IQ at the 95th percentile: {iq_top_5_percent:.2f}\")\n"
   ]
  }
 ],
 "metadata": {
  "kernelspec": {
   "display_name": "stats-env",
   "language": "python",
   "name": "python3"
  },
  "language_info": {
   "codemirror_mode": {
    "name": "ipython",
    "version": 3
   },
   "file_extension": ".py",
   "mimetype": "text/x-python",
   "name": "python",
   "nbconvert_exporter": "python",
   "pygments_lexer": "ipython3",
   "version": "3.11.11"
  }
 },
 "nbformat": 4,
 "nbformat_minor": 5
}
