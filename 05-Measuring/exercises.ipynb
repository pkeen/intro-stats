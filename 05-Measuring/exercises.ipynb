{
 "cells": [
  {
   "cell_type": "code",
   "execution_count": 5,
   "id": "2f85ef2e",
   "metadata": {},
   "outputs": [
    {
     "name": "stdout",
     "output_type": "stream",
     "text": [
      "Percentage over 31: 2.83%\n",
      "Percentage below 18: 29.21%\n",
      "Percentage between 18 and 31: 67.95%\n"
     ]
    }
   ],
   "source": [
    "import scipy.stats as stats\n",
    "\n",
    "mean = 20.9\n",
    "std_dev = 5.3\n",
    "\n",
    "percent_over_31 = stats.norm.sf((31 - mean) / std_dev) * 100\n",
    "print(f\"Percentage over 31: {percent_over_31:.2f}%\")\n",
    "\n",
    "percent_below_18 = stats.norm.cdf((18 - mean) / std_dev) * 100\n",
    "print(f\"Percentage below 18: {percent_below_18:.2f}%\")\n",
    "\n",
    "percent_between_18_and_31 = stats.norm.cdf((31 - mean) / std_dev) * 100 - stats.norm.cdf((18 - mean) / std_dev) * 100\n",
    "print(f\"Percentage between 18 and 31: {percent_between_18_and_31:.2f}%\")\n",
    "\n"
   ]
  },
  {
   "cell_type": "markdown",
   "id": "37bc3c33",
   "metadata": {},
   "source": [
    "16. Annual incomes. The mean annual income of a group of assistant chefs is €20,500, while the median income is €24,595. \n",
    "he standard deviation is €1,800. \n",
    "a) If a Normal model is used for these incomes, what would be the annual income of the top 1%?\n",
    "b) How confident are you in the answer of part (a)? \n",
    "c) Do you think that the Normal model is appropriate for these incomes? Explain."
   ]
  },
  {
   "cell_type": "code",
   "execution_count": 6,
   "id": "643a653e",
   "metadata": {},
   "outputs": [
    {
     "name": "stdout",
     "output_type": "stream",
     "text": [
      "Annual income of the top 1%: 24187.43\n"
     ]
    }
   ],
   "source": [
    "mean = 20_000\n",
    "std_dev = 1_800\n",
    "\n",
    "# top 1%\n",
    "top_1_percent_salary = stats.norm.ppf(0.99, loc=mean, scale=std_dev)\n",
    "print(f\"Annual income of the top 1%: {top_1_percent_salary:.2f}\")\n"
   ]
  }
 ],
 "metadata": {
  "kernelspec": {
   "display_name": "stats-env",
   "language": "python",
   "name": "python3"
  },
  "language_info": {
   "codemirror_mode": {
    "name": "ipython",
    "version": 3
   },
   "file_extension": ".py",
   "mimetype": "text/x-python",
   "name": "python",
   "nbconvert_exporter": "python",
   "pygments_lexer": "ipython3",
   "version": "3.11.11"
  }
 },
 "nbformat": 4,
 "nbformat_minor": 5
}
